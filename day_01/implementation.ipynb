{
 "cells": [
  {
   "cell_type": "markdown",
   "id": "e9e591e9",
   "metadata": {},
   "source": [
    "1. Functions Demonstrating String, List, and Dict Manipulations"
   ]
  },
  {
   "cell_type": "code",
   "execution_count": 1,
   "id": "5460bbd9",
   "metadata": {},
   "outputs": [],
   "source": [
    "def string_manipulation(s):\n",
    "    return s.upper(), s[::-1], s.replace('a', '@')\n",
    "\n",
    "def list_manipulation(lst):\n",
    "    lst.append(100)\n",
    "    lst.remove(lst[0])\n",
    "    return lst\n",
    "\n",
    "def dict_manipulation(d):\n",
    "    d['new'] = 'value'\n",
    "    return d.get('new'), list(d.keys())\n"
   ]
  },
  {
   "cell_type": "code",
   "execution_count": null,
   "id": "7419d499",
   "metadata": {},
   "outputs": [],
   "source": []
  },
  {
   "cell_type": "markdown",
   "id": "b8ab88cf",
   "metadata": {},
   "source": [
    "2. Command-Line Script Reading and Writing Text Files"
   ]
  },
  {
   "cell_type": "code",
   "execution_count": null,
   "id": "049279d3",
   "metadata": {},
   "outputs": [],
   "source": [
    "def read_write_file():\n",
    "    with open('input.txt', 'r') as infile:\n",
    "        content = infile.read()\n",
    "\n",
    "    with open('output.txt', 'w') as outfile:\n",
    "        outfile.write(content.upper())\n"
   ]
  },
  {
   "cell_type": "code",
   "execution_count": null,
   "id": "2a0ec122",
   "metadata": {},
   "outputs": [],
   "source": []
  },
  {
   "cell_type": "markdown",
   "id": "78b55bf5",
   "metadata": {},
   "source": [
    "3. List Comprehensions to Filter and Transform a List"
   ]
  },
  {
   "cell_type": "code",
   "execution_count": 2,
   "id": "0b562bd5",
   "metadata": {},
   "outputs": [
    {
     "name": "stdout",
     "output_type": "stream",
     "text": [
      "[4, 16, 36]\n"
     ]
    }
   ],
   "source": [
    "nums = [1, 2, 3, 4, 5, 6]\n",
    "evens_squared = [x**2 for x in nums if x % 2 == 0]\n",
    "print(evens_squared)\n"
   ]
  },
  {
   "cell_type": "markdown",
   "id": "9acfc2dd",
   "metadata": {},
   "source": []
  }
 ],
 "metadata": {
  "kernelspec": {
   "display_name": "Python 3",
   "language": "python",
   "name": "python3"
  },
  "language_info": {
   "codemirror_mode": {
    "name": "ipython",
    "version": 3
   },
   "file_extension": ".py",
   "mimetype": "text/x-python",
   "name": "python",
   "nbconvert_exporter": "python",
   "pygments_lexer": "ipython3",
   "version": "3.12.1"
  }
 },
 "nbformat": 4,
 "nbformat_minor": 5
}
